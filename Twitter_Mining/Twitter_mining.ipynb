{
  "nbformat": 4,
  "nbformat_minor": 0,
  "metadata": {
    "colab": {
      "name": "Twitter_mining.ipynb",
      "provenance": [],
      "collapsed_sections": [],
      "toc_visible": true,
      "include_colab_link": true
    },
    "kernelspec": {
      "name": "python3",
      "display_name": "Python 3"
    }
  },
  "cells": [
    {
      "cell_type": "markdown",
      "metadata": {
        "id": "view-in-github",
        "colab_type": "text"
      },
      "source": [
        "<a href=\"https://colab.research.google.com/github/rthorst/Technical_Presentations/blob/master/Twitter_Mining/Twitter_mining.ipynb\" target=\"_parent\"><img src=\"https://colab.research.google.com/assets/colab-badge.svg\" alt=\"Open In Colab\"/></a>"
      ]
    },
    {
      "cell_type": "markdown",
      "metadata": {
        "id": "eOfz5uNwOjy5",
        "colab_type": "text"
      },
      "source": [
        "# Twitter Mining Tutorial\n",
        "\n",
        "Robert Thorstad & Rob O'Reilly  \n",
        "Emory University Center for Digital Scholarship"
      ]
    },
    {
      "cell_type": "markdown",
      "metadata": {
        "id": "-tp9M6dLO5es",
        "colab_type": "text"
      },
      "source": [
        "# Overview\n",
        "\n",
        "In overview, mining twitter involves: \n",
        "\n",
        "1. **Acquiring tweets** (via something called an API)\n",
        "2. **Extracting data** from those tweets (a few options: we recommend writing a JSON or CSV file)\n",
        "3.  **Analyzing tweets** (mostly beyond our scope, but we'll do a simple analysis)\n",
        "\n",
        "![alt text](https://raw.githubusercontent.com/rthorst/ECDS_Workshops/master/Twitter_Mining_Workshop/jupyter_nb_images/great_debate.png)\n",
        "\n",
        "As an example, we'll take on a \"great debate.\" For example:\n",
        "\n",
        "- Ketchup or mustard?\n",
        "- Coffee or tea?\n",
        "- Windows or Mac?\n",
        "\n",
        "**We'll ask which one is better**, and we'll do this by mining recent tweets about each keyword and analyzing how positive those tweets are, a technique known as sentiment analysis. \n",
        "\n"
      ]
    },
    {
      "cell_type": "code",
      "metadata": {
        "id": "NUM0e4Bp1TfV",
        "colab_type": "code",
        "colab": {}
      },
      "source": [
        "# Define topics for our great debate -- from the audience!\n",
        "topic1 = \"coffee\"\n",
        "topic2 = \"tea\""
      ],
      "execution_count": 0,
      "outputs": []
    },
    {
      "cell_type": "markdown",
      "metadata": {
        "id": "vP-nEF-MlzU3",
        "colab_type": "text"
      },
      "source": [
        "# Acquiring Tweets\n",
        "\n",
        "Tweets can be acquired in a few ways:\n",
        "\n",
        "1. **Searching for a keyword.** We'll do this today: twitter \"search\" API.\n",
        "\n",
        "2. **Other options.** There are several other options we won't cover today. Notable options include a \"user timeline\" of all of a single user's tweets (up to 3,200/user), and a live \"firehose\" which is a random sample of all tweets in real time. \n"
      ]
    },
    {
      "cell_type": "markdown",
      "metadata": {
        "colab_type": "text",
        "id": "_ooLmPajCx6W"
      },
      "source": [
        "# Tweepy: Python Library for Twitter API\n",
        "\n",
        "Large websites like twitter make data available programmatically through an **Application Program Interface (API).** We'll use the Python library **tweepy** to access the twitter API.\n",
        "\n",
        "If you want to work outside of Python, see https://developer.twitter.com/en/docs for API documentation.\n",
        "\n",
        "![alt text](https://raw.githubusercontent.com/rthorst/ECDS_Workshops/master/Twitter_Mining_Workshop/jupyter_nb_images/tweepy.PNG)\n",
        "\n",
        "To access the API, you need an **api key** (identifies you) and a **twitter developer account.** These are free:  https://developer.twitter.com/en/docs/basics/authentication/guides/access-tokens (API key) and https://developer.twitter.com/en/apply-for-access (developer account).\n",
        "\n",
        "\n",
        "\n",
        "![alt text](https://raw.githubusercontent.com/rthorst/ECDS_Workshops/master/Twitter_Mining_Workshop/jupyter_nb_images/apply_developer_account.PNG)\n"
      ]
    },
    {
      "cell_type": "code",
      "metadata": {
        "id": "Khl0PLF_RIB_",
        "colab_type": "code",
        "colab": {}
      },
      "source": [
        "import tweepy\n",
        "\n",
        "# Define our API key, acquired from https://developer.twitter.com/en/docs/basics/authentication/guides/access-tokens\n",
        "# Replace with your personal API key.\n",
        "# Note! Never publicly share your API key; treat it as you would any other password. \n",
        "consumer_key = \"kNOG1klRMMUYbsjMuY5TKl4lE\"\n",
        "consumer_secret = \"ieghv6WI1qseYly43A0Ra1MPksEw1i5Onma0txfEu5aHantD2v\"\n",
        "access_key = \"3291622062-15ssVc0qpJXf2SFXbA7vgfl1Sooz4Ueo2DGPQVz\"\n",
        "access_secret = \"9XJuzgGSVLnx93tq6NfRzMT07S6o2lzjmHfjt3VRlkqXn\"\n",
        "\n",
        "# Create API object. Yes, just 3 lines of code!!\n",
        "auth = tweepy.OAuthHandler(consumer_key, consumer_secret) # authorize.\n",
        "auth.set_access_token(access_key, access_secret) # specify our credentials. \n",
        "api = tweepy.API(auth, wait_on_rate_limit = True) # wait_on_rate_limit option is strongly recommended: prevents being locked out for making too many queries."
      ],
      "execution_count": 0,
      "outputs": []
    },
    {
      "cell_type": "markdown",
      "metadata": {
        "id": "ELSOMPTCSLG4",
        "colab_type": "text"
      },
      "source": [
        "## Getting Tweets Using a Keyword\n",
        "\n",
        "Here, we use the **search API** to get recent tweets based on a keyword.\n",
        "\n",
        "![alt text](https://raw.githubusercontent.com/rthorst/ECDS_Workshops/master/Twitter_Mining_Workshop/jupyter_nb_images/api_search_ref.PNG)\n",
        "\n"
      ]
    },
    {
      "cell_type": "code",
      "metadata": {
        "id": "0NTbbiLwqis7",
        "colab_type": "code",
        "colab": {}
      },
      "source": [
        "# Get tweets for each topic. Yes --- 1 line of code!!\n",
        "topic1_tweets = api.search(q=topic1) # list: shape (ntweets, )\n",
        "topic2_tweets = api.search(q=topic2) # list: shape (ntweets, ) "
      ],
      "execution_count": 0,
      "outputs": []
    },
    {
      "cell_type": "code",
      "metadata": {
        "id": "QNg0ygBsq4gM",
        "colab_type": "code",
        "outputId": "b1f2a360-c680-48f6-eb65-e9cce69c27ad",
        "colab": {
          "base_uri": "https://localhost:8080/",
          "height": 289
        }
      },
      "source": [
        "# Visualize some example tweets. Note that {} is a type of string replacement.\n",
        "topics = [topic1, topic2]\n",
        "tweet_arrs = [topic1_tweets, topic2_tweets]\n",
        "\n",
        "for topic, tweets in zip(topics, tweet_arrs):\n",
        "  \n",
        "  msg = \"\"\"\n",
        "  -----------------\n",
        "  Example tweet about aboout {}:\n",
        "  {}\n",
        "  \n",
        "  Total number of tweets about {} = {}\n",
        "  -----------------\n",
        "  \"\"\".format(topic, tweets[0].text, topic, len(tweets))\n",
        "  \n",
        "  print(msg)"
      ],
      "execution_count": 8,
      "outputs": [
        {
          "output_type": "stream",
          "text": [
            "\n",
            "  -----------------\n",
            "  Example tweet about aboout coffee:\n",
            "  @Hela_Odindottir @Pour_Me_Coffee_ @ILiebuster @Mahakaa11337387 @gauravcsawant @ImranKhanPTI @ShkhRasheed @RajManuja… https://t.co/mkZPA6J0KH\n",
            "  \n",
            "  Total number of tweets about coffee = 15\n",
            "  -----------------\n",
            "  \n",
            "\n",
            "  -----------------\n",
            "  Example tweet about aboout tea:\n",
            "  tadinya udah planning sebelum pulang dari gancit pengen ngeshare tea dulu. biar ada yg seger sambil menikmati macet… https://t.co/zuADnzNxvS\n",
            "  \n",
            "  Total number of tweets about tea = 15\n",
            "  -----------------\n",
            "  \n"
          ],
          "name": "stdout"
        }
      ]
    },
    {
      "cell_type": "markdown",
      "metadata": {
        "id": "f9708jRjrhFO",
        "colab_type": "text"
      },
      "source": [
        "# Getting More Tweets.\n",
        "\n",
        "**Oops! We only got 15 tweets/topic**. Let's modify our search to retrieve more tweets. \n",
        "\n",
        "Tweets come in \"pages\" of at most 100 tweets. So, we need to:\n",
        "* Increase the \"page size\" (from 15 --> 100)\n",
        "* Get tweets from more than one page.\n"
      ]
    },
    {
      "cell_type": "code",
      "metadata": {
        "id": "GYSqcbFaSRTV",
        "colab_type": "code",
        "colab": {}
      },
      "source": [
        "def get_tweets_by_keyword(keyword, max_tweets=500, lang=\"en\"):\n",
        "  \"\"\"\n",
        "  keyword :: string, e.g. \"mustard\" or \"flying elephants\".\n",
        "  max_tweets :: integer, maximum # of tweets to retrieve.\n",
        "  lang :: language code, as ISO-639 e.g. \"en\" for \"English\"\n",
        "  \n",
        "  Return list of tweets. Each tweet is a tweepy.models.Status object\n",
        "  https://gist.github.com/dev-techmoe/ef676cdd03ac47ac503e856282077bf2\n",
        "   \n",
        "  Note: it is possible we'll retrieve slightly more than the maximum number of\n",
        "  tweets (which is usually a good thing!). If this is not desired behavior,\n",
        "  modify the return statement to:\n",
        "  \n",
        "   >>   if len(tweets) <= max_tweets:\n",
        "   >>     return tweets\n",
        "   >>   else:\n",
        "   >>     return tweets[:max_tweets]\n",
        "\n",
        "  \"\"\"\n",
        "  \n",
        "  tweets = [] # list of tweets\n",
        "  max_id = None # id of the last tweet retrieved, used to search for subsequent \"pages\" of tweets.\n",
        "\n",
        "  while len(tweets) < max_tweets:\n",
        "\n",
        "    ### Retrieve tweets. ####\n",
        "    \n",
        "\n",
        "    # Logic: There are two cases.\n",
        "    # Case 1: We have already acquired some tweets --> search for tweets with\n",
        "    # an ID number lower than any tweet we have retrieved before.\n",
        "    # Case 2: We have no tweets yet --> simply search for recent tweets.\n",
        " \n",
        "    if max_id:\n",
        "      new_tweets = api.search(q=keyword, lang=lang, count=100, \n",
        "                             max_id=max_id)\n",
        "    else:\n",
        "      new_tweets = api.search(q=keyword, lang=lang, count=100)\n",
        "     \n",
        "    \n",
        "    ### Process the tweets just retrieved. ###\n",
        "    \n",
        "    # Logic: Again there are two cases.\n",
        "    # Case 1: No tweets were retrieved --> Stop, can't get more tweets.\n",
        "    # Case 2: Some tweets were retrieved --> Store those tweets then keep \n",
        "    # searching for more tweets.\n",
        " \n",
        "    if new_tweets:     \n",
        "      tweets.extend(new_tweets)\n",
        "      max_id = str(new_tweets[-1].id)\n",
        "    else:\n",
        "      break\n",
        "\n",
        "  return tweets\n"
      ],
      "execution_count": 0,
      "outputs": []
    },
    {
      "cell_type": "code",
      "metadata": {
        "id": "OiqscOvbx_n6",
        "colab_type": "code",
        "outputId": "176f1ae9-b12d-4dc5-fdb2-163c3374acd9",
        "colab": {
          "base_uri": "https://localhost:8080/",
          "height": 289
        }
      },
      "source": [
        "# Get tweets for each topic.\n",
        "topic1_tweets = get_tweets_by_keyword(topic1, max_tweets=1000)\n",
        "topic2_tweets = get_tweets_by_keyword(topic2, max_tweets=1000)\n",
        "\n",
        "# See example tweets.\n",
        "for topic, tweets in zip([topic1, topic2], [topic1_tweets, topic2_tweets]):\n",
        "  \n",
        "  msg = \"\"\"\n",
        "  -----------------\n",
        "  Example tweet about aboout {}:\n",
        "  {}\n",
        "  \n",
        "  Total number of tweets about {} = {}\n",
        "  -----------------\n",
        "  \"\"\".format(topic, tweets[0].text, topic, len(tweets))\n",
        "  \n",
        "  print(msg)"
      ],
      "execution_count": 10,
      "outputs": [
        {
          "output_type": "stream",
          "text": [
            "\n",
            "  -----------------\n",
            "  Example tweet about aboout coffee:\n",
            "  RT @MzMerica: @davidschneider At the end of the day... Nigel has just realised once/if, it’s passed, he’ll be relegated to clean the shoes…\n",
            "  \n",
            "  Total number of tweets about coffee = 1000\n",
            "  -----------------\n",
            "  \n",
            "\n",
            "  -----------------\n",
            "  Example tweet about aboout tea:\n",
            "  @JeffreeStar I’m in line :((((( https://t.co/hM5dx2k1QP\n",
            "  \n",
            "  Total number of tweets about tea = 1000\n",
            "  -----------------\n",
            "  \n"
          ],
          "name": "stdout"
        }
      ]
    },
    {
      "cell_type": "markdown",
      "metadata": {
        "id": "0yci_iqWyalO",
        "colab_type": "text"
      },
      "source": [
        "# Other Ways to Retrieve Tweets \n",
        "\n",
        "Access a real time stream of tweets: the \"decahose\"\n",
        "\n",
        "![alt text](https://raw.githubusercontent.com/rthorst/ECDS_Workshops/master/Twitter_Mining_Workshop/jupyter_nb_images/stream_tweets.png)\n",
        "\n",
        "Get all tweets from a user: the \"user timeline\"\n",
        "\n",
        "![alt text](https://raw.githubusercontent.com/rthorst/ECDS_Workshops/master/Twitter_Mining_Workshop/jupyter_nb_images/user_timeline.png)"
      ]
    },
    {
      "cell_type": "markdown",
      "metadata": {
        "id": "pWlQt_7KzhNs",
        "colab_type": "text"
      },
      "source": [
        "# Extract information from a tweet\n",
        "\n",
        "Each tweet is a tweepy.models.Status object. Great. But we really want information, like, the text of the tweet or its ID number. \n",
        "\n",
        "Let's extract that information.\n",
        "\n",
        "\n"
      ]
    },
    {
      "cell_type": "markdown",
      "metadata": {
        "id": "LbaDX18VzwPp",
        "colab_type": "text"
      },
      "source": [
        "# Data in a Tweet\n",
        "\n",
        "Tweets have a LOT of data, including: \n",
        "\n",
        "* id\n",
        "* text\n",
        "* user[\"screen_name\"]\n",
        "* created_at\n"
      ]
    },
    {
      "cell_type": "code",
      "metadata": {
        "id": "WkGLH6HRz1Tz",
        "colab_type": "code",
        "outputId": "d280585f-0b2b-4965-f09f-45df5f04b333",
        "colab": {
          "base_uri": "https://localhost:8080/",
          "height": 1000
        }
      },
      "source": [
        "# Visualize one of the tweets.\n",
        "import pprint\n",
        "pprint.pprint(topic1_tweets[0]._json)"
      ],
      "execution_count": 11,
      "outputs": [
        {
          "output_type": "stream",
          "text": [
            "{'contributors': None,\n",
            " 'coordinates': None,\n",
            " 'created_at': 'Fri Nov 01 17:44:57 +0000 2019',\n",
            " 'entities': {'hashtags': [],\n",
            "              'symbols': [],\n",
            "              'urls': [],\n",
            "              'user_mentions': [{'id': 36707981,\n",
            "                                 'id_str': '36707981',\n",
            "                                 'indices': [3, 12],\n",
            "                                 'name': 'Mandi L',\n",
            "                                 'screen_name': 'MzMerica'},\n",
            "                                {'id': 20098015,\n",
            "                                 'id_str': '20098015',\n",
            "                                 'indices': [14, 29],\n",
            "                                 'name': 'David Schneider',\n",
            "                                 'screen_name': 'davidschneider'}]},\n",
            " 'favorite_count': 0,\n",
            " 'favorited': False,\n",
            " 'geo': None,\n",
            " 'id': 1190323859834245120,\n",
            " 'id_str': '1190323859834245120',\n",
            " 'in_reply_to_screen_name': None,\n",
            " 'in_reply_to_status_id': None,\n",
            " 'in_reply_to_status_id_str': None,\n",
            " 'in_reply_to_user_id': None,\n",
            " 'in_reply_to_user_id_str': None,\n",
            " 'is_quote_status': False,\n",
            " 'lang': 'en',\n",
            " 'metadata': {'iso_language_code': 'en', 'result_type': 'recent'},\n",
            " 'place': None,\n",
            " 'retweet_count': 1,\n",
            " 'retweeted': False,\n",
            " 'retweeted_status': {'contributors': None,\n",
            "                      'coordinates': None,\n",
            "                      'created_at': 'Fri Nov 01 12:13:30 +0000 2019',\n",
            "                      'entities': {'hashtags': [],\n",
            "                                   'symbols': [],\n",
            "                                   'urls': [{'display_url': 'twitter.com/i/web/status/1…',\n",
            "                                             'expanded_url': 'https://twitter.com/i/web/status/1190240444799688704',\n",
            "                                             'indices': [116, 139],\n",
            "                                             'url': 'https://t.co/c20Xc9xRy3'}],\n",
            "                                   'user_mentions': [{'id': 20098015,\n",
            "                                                      'id_str': '20098015',\n",
            "                                                      'indices': [0, 15],\n",
            "                                                      'name': 'David Schneider',\n",
            "                                                      'screen_name': 'davidschneider'}]},\n",
            "                      'favorite_count': 14,\n",
            "                      'favorited': False,\n",
            "                      'geo': None,\n",
            "                      'id': 1190240444799688704,\n",
            "                      'id_str': '1190240444799688704',\n",
            "                      'in_reply_to_screen_name': 'davidschneider',\n",
            "                      'in_reply_to_status_id': 1190232185007222784,\n",
            "                      'in_reply_to_status_id_str': '1190232185007222784',\n",
            "                      'in_reply_to_user_id': 20098015,\n",
            "                      'in_reply_to_user_id_str': '20098015',\n",
            "                      'is_quote_status': False,\n",
            "                      'lang': 'en',\n",
            "                      'metadata': {'iso_language_code': 'en',\n",
            "                                   'result_type': 'recent'},\n",
            "                      'place': None,\n",
            "                      'retweet_count': 1,\n",
            "                      'retweeted': False,\n",
            "                      'source': '<a href=\"http://twitter.com/download/iphone\" '\n",
            "                                'rel=\"nofollow\">Twitter for iPhone</a>',\n",
            "                      'text': '@davidschneider At the end of the day... Nigel '\n",
            "                              'has just realised once/if, it’s passed, he’ll '\n",
            "                              'be relegated to clean… https://t.co/c20Xc9xRy3',\n",
            "                      'truncated': True,\n",
            "                      'user': {'contributors_enabled': False,\n",
            "                               'created_at': 'Thu Apr 30 16:43:48 +0000 2009',\n",
            "                               'default_profile': False,\n",
            "                               'default_profile_image': False,\n",
            "                               'description': 'Am semi-neurotic with a twist, '\n",
            "                                              'generally in my glass. Full '\n",
            "                                              'time Before Model not here for '\n",
            "                                              'whataboutery. #NeverAgainIsNow',\n",
            "                               'entities': {'description': {'urls': []}},\n",
            "                               'favourites_count': 11217,\n",
            "                               'follow_request_sent': False,\n",
            "                               'followers_count': 1233,\n",
            "                               'following': False,\n",
            "                               'friends_count': 1213,\n",
            "                               'geo_enabled': False,\n",
            "                               'has_extended_profile': False,\n",
            "                               'id': 36707981,\n",
            "                               'id_str': '36707981',\n",
            "                               'is_translation_enabled': False,\n",
            "                               'is_translator': False,\n",
            "                               'lang': None,\n",
            "                               'listed_count': 60,\n",
            "                               'location': 'Cheshire UK, not Cat',\n",
            "                               'name': 'Mandi L',\n",
            "                               'notifications': False,\n",
            "                               'profile_background_color': 'BADFCD',\n",
            "                               'profile_background_image_url': 'http://abs.twimg.com/images/themes/theme12/bg.gif',\n",
            "                               'profile_background_image_url_https': 'https://abs.twimg.com/images/themes/theme12/bg.gif',\n",
            "                               'profile_background_tile': True,\n",
            "                               'profile_banner_url': 'https://pbs.twimg.com/profile_banners/36707981/1531988867',\n",
            "                               'profile_image_url': 'http://pbs.twimg.com/profile_images/770254503048347648/DYGexQ_c_normal.jpg',\n",
            "                               'profile_image_url_https': 'https://pbs.twimg.com/profile_images/770254503048347648/DYGexQ_c_normal.jpg',\n",
            "                               'profile_link_color': '9266CC',\n",
            "                               'profile_sidebar_border_color': 'F2E195',\n",
            "                               'profile_sidebar_fill_color': 'FFF7CC',\n",
            "                               'profile_text_color': '0C3E53',\n",
            "                               'profile_use_background_image': True,\n",
            "                               'protected': False,\n",
            "                               'screen_name': 'MzMerica',\n",
            "                               'statuses_count': 48908,\n",
            "                               'time_zone': None,\n",
            "                               'translator_type': 'none',\n",
            "                               'url': None,\n",
            "                               'utc_offset': None,\n",
            "                               'verified': False}},\n",
            " 'source': '<a href=\"http://twitter.com/download/android\" '\n",
            "           'rel=\"nofollow\">Twitter for Android</a>',\n",
            " 'text': 'RT @MzMerica: @davidschneider At the end of the day... Nigel has '\n",
            "         'just realised once/if, it’s passed, he’ll be relegated to clean the '\n",
            "         'shoes…',\n",
            " 'truncated': False,\n",
            " 'user': {'contributors_enabled': False,\n",
            "          'created_at': 'Thu Jul 30 18:22:47 +0000 2009',\n",
            "          'default_profile': False,\n",
            "          'default_profile_image': False,\n",
            "          'description': '#MustBeAMarxist 🇵🇸🌹🌹 Janice longair..from ayr  live '\n",
            "                         'in Dreghorn grandsons.steven, logan,alfie & '\n",
            "                         'grandaughter olivia ...support worker',\n",
            "          'entities': {'description': {'urls': []}},\n",
            "          'favourites_count': 218078,\n",
            "          'follow_request_sent': False,\n",
            "          'followers_count': 6703,\n",
            "          'following': False,\n",
            "          'friends_count': 6779,\n",
            "          'geo_enabled': True,\n",
            "          'has_extended_profile': False,\n",
            "          'id': 61558830,\n",
            "          'id_str': '61558830',\n",
            "          'is_translation_enabled': False,\n",
            "          'is_translator': False,\n",
            "          'lang': None,\n",
            "          'listed_count': 190,\n",
            "          'location': 'ayrshire',\n",
            "          'name': 'Janice Barnes.',\n",
            "          'notifications': False,\n",
            "          'profile_background_color': '642D8B',\n",
            "          'profile_background_image_url': 'http://abs.twimg.com/images/themes/theme10/bg.gif',\n",
            "          'profile_background_image_url_https': 'https://abs.twimg.com/images/themes/theme10/bg.gif',\n",
            "          'profile_background_tile': True,\n",
            "          'profile_banner_url': 'https://pbs.twimg.com/profile_banners/61558830/1570995046',\n",
            "          'profile_image_url': 'http://pbs.twimg.com/profile_images/1183464400285585408/k22fHINE_normal.jpg',\n",
            "          'profile_image_url_https': 'https://pbs.twimg.com/profile_images/1183464400285585408/k22fHINE_normal.jpg',\n",
            "          'profile_link_color': '19CF86',\n",
            "          'profile_sidebar_border_color': '65B0DA',\n",
            "          'profile_sidebar_fill_color': '7AC3EE',\n",
            "          'profile_text_color': '3D1957',\n",
            "          'profile_use_background_image': True,\n",
            "          'protected': False,\n",
            "          'screen_name': 'logansteven',\n",
            "          'statuses_count': 334835,\n",
            "          'time_zone': None,\n",
            "          'translator_type': 'none',\n",
            "          'url': None,\n",
            "          'utc_offset': None,\n",
            "          'verified': False}}\n"
          ],
          "name": "stdout"
        }
      ]
    },
    {
      "cell_type": "markdown",
      "metadata": {
        "id": "hg6tSkbe0W1C",
        "colab_type": "text"
      },
      "source": [
        "# Extracting Text\n",
        "\n",
        "The simplest approach is to extract just the text of a tweet. \n",
        "\n",
        "We don't recommend this (we suggest retaining more information and writing to a file). But, here's how to get the text. "
      ]
    },
    {
      "cell_type": "code",
      "metadata": {
        "id": "U14lPKr30msR",
        "colab_type": "code",
        "outputId": "511d0369-61f7-4762-e605-aa0a3b4f477b",
        "colab": {
          "base_uri": "https://localhost:8080/",
          "height": 34
        }
      },
      "source": [
        "# The text of a tweet can be retrieved with the .text attribute.\n",
        "topic1_tweets_text = [tw.text for tw in topic1_tweets]\n",
        "topic2_tweets_text = [tw.text for tw in topic2_tweets]\n",
        "\n",
        "# Let's see an example tweet text.\n",
        "msg = \"Text of an example tweet : {}\".format(topic1_tweets_text[0])\n",
        "print(msg)"
      ],
      "execution_count": 12,
      "outputs": [
        {
          "output_type": "stream",
          "text": [
            "Text of an example tweet : RT @MzMerica: @davidschneider At the end of the day... Nigel has just realised once/if, it’s passed, he’ll be relegated to clean the shoes…\n"
          ],
          "name": "stdout"
        }
      ]
    },
    {
      "cell_type": "markdown",
      "metadata": {
        "id": "dplxPg_r03pY",
        "colab_type": "text"
      },
      "source": [
        "# Writing Tweets to a File\n",
        "\n",
        "We recommend writing tweets to a file. \n",
        "\n",
        "* **Minimum good practice** Write a CSV file with the tweet ID, text, user, and creation date.\n",
        "* **Even better** Keep the whole tweet as a JSON. \n",
        "\n",
        "Below are functions to do each of these. You can directly use these functions with your own tweets. \n"
      ]
    },
    {
      "cell_type": "code",
      "metadata": {
        "id": "zBk2aosW1RJe",
        "colab_type": "code",
        "colab": {}
      },
      "source": [
        "import csv\n",
        "import json \n",
        "\n",
        "def tweets_to_csv(tweets, filename=\"tweets.csv\"):\n",
        "  \"\"\"\n",
        "  tweets : list of tweepy.models.Status objects\n",
        "  filename : path to output file e.g. \"tweets.csv\"\n",
        "  \n",
        "  This function is a basic approach to writing tweets to a CSV. We write one \n",
        "  tweet per row, storing the tweet ID, text, user, and creation date. This is \n",
        "  the \"minimum good practice\" approach. \n",
        "  \n",
        "  To store all information about a tweet (beyond this information), the recommended\n",
        "  approach is to save the raw tweet JSON: see tweets_to_jsonl below. We do also\n",
        "  provide a function below, tweets_to_long_csv, which writes the entire JSON to\n",
        "  a CSV. However, this approach is not recommended for reasons documented in the\n",
        "  tweets_to_long_csv function.\n",
        "  \"\"\"\n",
        "  \n",
        "  # Create output file and set up header.\n",
        "  of = open(filename, \"w\", newline=\"\") # output file object.\n",
        "  header = [\"tweet_id\", \"user\", \"creation_date\", \"tweet_text\"] \n",
        "  w = csv.writer(of) # csv \"writer\" object.\n",
        "  w.writerow(header)\n",
        "  \n",
        "  # Write each tweet to the file.\n",
        "  for tweet in tweets:\n",
        "    \n",
        "    out = [tweet.id, tweet.user, tweet.created_at, tweet.text.encode(\"utf8\")]\n",
        "    w.writerow(out) # write row to file.\n",
        "    \n",
        "  # Done, close file.\n",
        "  of.flush() # necessary to ensure the last few lines are written.\n",
        "  of.close() # explicitly close output file. \n",
        "\n",
        "def tweets_to_jsonl(tweets, filename=\"tweets.jsonl\"):\n",
        "  \"\"\"\n",
        "  tweets: list of tweepy.models.Status objects\n",
        "  filename : path to output file e.g. \"tweets.jsonl\". \n",
        "             output file is JSONL format. http://jsonlines.org/\n",
        "  \n",
        "  write tweets to a line-delimited JSON file (JSONL)\n",
        "  store all information associated with the tweet.\n",
        "  \"\"\"\n",
        "  \n",
        "  with open(filename, \"w\", newline=\"\") as of: # create output file. \n",
        "    for tweet in tweets:\n",
        "      out = json.dumps(tweet._json) + \"\\n\" # output as string. \n",
        "      of.write(out) # write output as a single row of text.\n",
        " \n",
        "\n",
        "def tweets_to_long_csv(tweets, filename = \"tweets.csv\"):\n",
        "    \"\"\"\n",
        "    tweets :: list of tweepy.Status objects.\n",
        "    filename :: output filename (default tweets.csv)\n",
        "\n",
        "    Write all information in each tweet to a CSV file specified by the\n",
        "    filename argument.\n",
        "\n",
        "    ***\n",
        "    Note that this approach is *NOT* recommended. \n",
        "    ***\n",
        "\n",
        "    JSON data is hierarchical in a way that is not naturally represented by \n",
        "    tabular data like a CSV. In other words, if you've gotten this far, we \n",
        "    recommend switching to tweets_to_jsonl above. \n",
        "    \"\"\"\n",
        "\n",
        "    # Extract the header (names of the keys) from the first tweet\n",
        "    header = list(tweets[0]._json.keys())\n",
        "\n",
        "    # Create the output CSV file and write a header.\n",
        "    of = open(filename, \"w\", newline=\"\")\n",
        "    w = csv.writer(of)\n",
        "    w.writerow(header)\n",
        "\n",
        "    # Write each individual tweet to the output CSV.\n",
        "    for tweet in tweets:\n",
        "\n",
        "        j = tweet._json\n",
        "        out = []\n",
        "\n",
        "        for k in header:\n",
        "\n",
        "            try:\n",
        "                out.append(j[k])\n",
        "            except KeyError: # in case of missing keys, fill with empty string.\n",
        "                out.append(\"\")\n",
        "\n",
        "        # Some fields have unusual characters. Encode all fields as \"ASCII\"\n",
        "        # encoded string.\n",
        "        out = [str(v).encode(\"ascii\", \"ignore\") for v in out]\n",
        "\n",
        "        # Write this row to the CSV.\n",
        "        w.writerow(out)\n",
        "\n",
        "    # Done. Close output file.\n",
        "    of.flush()\n",
        "    of.close()\n",
        "\n",
        "    return None\n",
        " "
      ],
      "execution_count": 0,
      "outputs": []
    },
    {
      "cell_type": "markdown",
      "metadata": {
        "id": "LuAaD9dBE0-4",
        "colab_type": "text"
      },
      "source": [
        "# Sentiment Analysis\n",
        "\n",
        "Let's settle our \"great debate.\" Sentiment Analysis is a type of natural language processing where the input is text and the output is a valence from -1 (negative) to +1 (positive).\n",
        "\n",
        "We'll use a pretrained sentiment analysis model from https://github.com/cjhutto/vaderSentiment (paper: https://www.aaai.org/ocs/index.php/ICWSM/ICWSM14/paper/viewPaper/8109)\n",
        "\n",
        "![alt text](https://raw.githubusercontent.com/rthorst/ECDS_Workshops/master/Twitter_Mining_Workshop/jupyter_nb_images/vader_sent.png)\n",
        "\n"
      ]
    },
    {
      "cell_type": "code",
      "metadata": {
        "id": "hq9VM_I83LIw",
        "colab_type": "code",
        "outputId": "65adc482-7a0d-449f-ce52-65b63e2594d6",
        "colab": {
          "base_uri": "https://localhost:8080/",
          "height": 1000
        }
      },
      "source": [
        "!pip install vaderSentiment # \"Magic\" google colab statement to install a package. The ! executes like a shell command. \n",
        "from vaderSentiment.vaderSentiment import SentimentIntensityAnalyzer \n",
        "\n",
        "# Score sentiment of each tweet (yes -- one line per topic!)\n",
        "s = SentimentIntensityAnalyzer() \n",
        "topic1_sentiments = [s.polarity_scores(tw)[\"compound\"] \n",
        "                     for tw in topic1_tweets_text] # \"list comprehension\" : https://www.pythonforbeginners.com/basics/list-comprehensions-in-python\n",
        "topic2_sentiments = [s.polarity_scores(tw)[\"compound\"] \n",
        "                     for tw in topic2_tweets_text]\n",
        "\n",
        "# Visualize a few of the sentiment scores.\n",
        "for tweet, sentiment in zip(topic1_tweets_text[:10], topic1_sentiments[:10]):\n",
        "  msg = \"\\nTweet : {}\\n, Sentiment = {}\\n-------------\".format(tweet, sentiment)\n",
        "  print(msg)\n",
        "\n",
        "\"\"\"\n",
        "Want extra practice?  :) \n",
        "\n",
        "You might worry that we're keeping the keywords themselves in the analysis. This \n",
        "could bias the result, simply because one of the keywords might have a higher\n",
        "sentiment score than the other.\n",
        "\n",
        "For practice, try removing the keywords! You may try:\n",
        "  -- tokenize each sentence (see twokenizer library: tokenization is non-trivial on twitter)\n",
        "  -- remove keywords (practice: try a list comprehension! It's a beautiful feature of python)\n",
        "  -- re-combine the keywords (python lists have a join() method)\n",
        "\"\"\"\n"
      ],
      "execution_count": 14,
      "outputs": [
        {
          "output_type": "stream",
          "text": [
            "Collecting vaderSentiment\n",
            "\u001b[?25l  Downloading https://files.pythonhosted.org/packages/86/9e/c53e1fc61aac5ee490a6ac5e21b1ac04e55a7c2aba647bb8411c9aadf24e/vaderSentiment-3.2.1-py2.py3-none-any.whl (125kB)\n",
            "\r\u001b[K     |██▋                             | 10kB 14.1MB/s eta 0:00:01\r\u001b[K     |█████▏                          | 20kB 6.3MB/s eta 0:00:01\r\u001b[K     |███████▉                        | 30kB 8.7MB/s eta 0:00:01\r\u001b[K     |██████████▍                     | 40kB 5.3MB/s eta 0:00:01\r\u001b[K     |█████████████                   | 51kB 6.4MB/s eta 0:00:01\r\u001b[K     |███████████████▋                | 61kB 7.5MB/s eta 0:00:01\r\u001b[K     |██████████████████▎             | 71kB 8.5MB/s eta 0:00:01\r\u001b[K     |████████████████████▉           | 81kB 9.4MB/s eta 0:00:01\r\u001b[K     |███████████████████████▍        | 92kB 10.4MB/s eta 0:00:01\r\u001b[K     |██████████████████████████      | 102kB 8.5MB/s eta 0:00:01\r\u001b[K     |████████████████████████████▋   | 112kB 8.5MB/s eta 0:00:01\r\u001b[K     |███████████████████████████████▎| 122kB 8.5MB/s eta 0:00:01\r\u001b[K     |████████████████████████████████| 133kB 8.5MB/s \n",
            "\u001b[?25hInstalling collected packages: vaderSentiment\n",
            "Successfully installed vaderSentiment-3.2.1\n",
            "\n",
            "Tweet : RT @MzMerica: @davidschneider At the end of the day... Nigel has just realised once/if, it’s passed, he’ll be relegated to clean the shoes…\n",
            ", Sentiment = 0.4019\n",
            "-------------\n",
            "\n",
            "Tweet : RT @HallowEveHero: I Play A Badass On TV But I'm Like Everyone Else Off\n",
            "\n",
            "🎊 New Alexa Bliss On Block\n",
            "🎊🛇 NO Drama \n",
            "🎊 Crossovers Welcome \n",
            "🎊 #B…\n",
            ", Sentiment = 0.7876\n",
            "-------------\n",
            "\n",
            "Tweet : It’s so nice talking to the ppl you meet at coffee shops. Honestly it turns to be a rejuvenating day if you’re havi… https://t.co/wP87WdxHjs\n",
            ", Sentiment = 0.7264\n",
            "-------------\n",
            "\n",
            "Tweet : RT @_sydneyag: “Just had an iced coffee AND I—“ Happy Halloween from me and @lifeofrickey 🕺🏾 https://t.co/XXQnMVU12x\n",
            ", Sentiment = 0.5719\n",
            "-------------\n",
            "\n",
            "Tweet : @bmstores @BritishBakeOff @DrOetkerBakes Coffee cake 💕💕\n",
            ", Sentiment = 0.0\n",
            "-------------\n",
            "\n",
            "Tweet : @tamermnour Let's have a coffee then ☕\n",
            ", Sentiment = 0.0\n",
            "-------------\n",
            "\n",
            "Tweet : RT @Lin_Manuel: Gmorning.\n",
            "It’s better with you in it. \n",
            "The whole thing. \n",
            "It’s better cuz you’re here.\n",
            "Let it dissolve slow if it’s too much…\n",
            ", Sentiment = 0.7003\n",
            "-------------\n",
            "\n",
            "Tweet : RT @incorrectGOT7: yugyeom: *upset*\n",
            "\n",
            "jinyoung: do you want me to make you some coffee?? how would you like it?\n",
            "\n",
            "yugyeom: *in an angsty mann…\n",
            ", Sentiment = 0.5171\n",
            "-------------\n",
            "\n",
            "Tweet : That is witchy #Asra on my coffee for Halloween. A pumpkin coffee btw\n",
            "#thearcana https://t.co/RSQYqhe0Qb\n",
            ", Sentiment = 0.0\n",
            "-------------\n",
            "\n",
            "Tweet : RT @LyonsCoffee: Our first #Freebie Friday of November! For your chance to #WIN a box of Lyons Coffee bags and a travel cup, tell us where…\n",
            ", Sentiment = 0.3164\n",
            "-------------\n"
          ],
          "name": "stdout"
        },
        {
          "output_type": "execute_result",
          "data": {
            "text/plain": [
              "\"\\nWant extra practice?  :) \\n\\nYou might worry that we're keeping the keywords themselves in the analysis. This \\ncould bias the result, simply because one of the keywords might have a higher\\nsentiment score than the other.\\n\\nFor practice, try removing the keywords! You may try:\\n  -- tokenize each sentence (see twokenizer library: tokenization is non-trivial on twitter)\\n  -- remove keywords (practice: try a list comprehension! It's a beautiful feature of python)\\n  -- re-combine the keywords (python lists have a join() method)\\n\""
            ]
          },
          "metadata": {
            "tags": []
          },
          "execution_count": 14
        }
      ]
    },
    {
      "cell_type": "markdown",
      "metadata": {
        "id": "4U0BebVEE6gh",
        "colab_type": "text"
      },
      "source": [
        "# Settle the Great Debate: Visualization"
      ]
    },
    {
      "cell_type": "code",
      "metadata": {
        "id": "fI93WV3sE9p7",
        "colab_type": "code",
        "outputId": "3a7603a6-7556-4cfe-8f4c-6185167a884c",
        "colab": {
          "base_uri": "https://localhost:8080/",
          "height": 310
        }
      },
      "source": [
        "import seaborn as sns\n",
        "import pandas as pd\n",
        "import numpy as np\n",
        "from scipy.stats import ttest_ind\n",
        "\n",
        "\"\"\"\n",
        "Reshape the data into a table-like object called a \"data frame\" from the \n",
        "pandas library. This step is needed for the plotting library that we use.\n",
        "\"\"\"\n",
        "\n",
        "# Combine data from topic1, topic2 tweets. The \"hstack\" function stacks arrays vertically on top of each other. \n",
        "tweets = np.hstack((topic1_tweets, topic2_tweets)) \n",
        "sentiments = np.hstack((topic1_sentiments, topic2_sentiments)) # ....\n",
        "keywords = np.hstack((  # \n",
        "    [topic1]*len(topic1_tweets),\n",
        "    [topic2]*len(topic2_tweets)\n",
        "))\n",
        "\n",
        "# Create data frame object, df.\n",
        "colnames = [\"tweet_text\", \"sentiment\", \"keyword\"]\n",
        "data = np.vstack((tweets, sentiments, keywords)).T\n",
        "df = pd.DataFrame(data=data, columns=colnames)\n",
        "df[\"sentiment\"] = [float(v) for v in df.sentiment] # change data type of sentiment to numeric \"floating point\" values.\n",
        "\n",
        "\n",
        "\"\"\"\n",
        "Plot. We use the seaborn library, an elegant, high-level plotting library in\n",
        "Python. Another viable alternative is matplotlib.\n",
        "\"\"\"\n",
        "\n",
        "# Generate a title programmatically, including the results of a statistical test.\n",
        "t, p = ttest_ind(topic1_sentiments, topic2_sentiments) # scipy.stats has a number of statistical functions: here, t-test.\n",
        "if np.mean(topic1_sentiments) > np.mean(topic2_sentiments):\n",
        "  title = \"Twitter likes {} better than {}!\".format(topic1, topic2) # {} does string replacement.\n",
        "else:\n",
        "  title = \"Twitter likes {} better than {}!\".format(topic2, topic1)\n",
        "title += \"\\n(t = {:.4f}, p = {:.4f})\".format(t, p)\n",
        "\n",
        "# Make plot.\n",
        "sns.set_style(\"white\")\n",
        "sns.barplot(x=\"keyword\", y=\"sentiment\", data=df).set_title(title)\n",
        "sns.despine()"
      ],
      "execution_count": 15,
      "outputs": [
        {
          "output_type": "display_data",
          "data": {
            "image/png": "[encoded data removed]",
            "text/plain": [
              "<Figure size 432x288 with 1 Axes>"
            ]
          },
          "metadata": {
            "tags": []
          }
        }
      ]
    }
  ]
}